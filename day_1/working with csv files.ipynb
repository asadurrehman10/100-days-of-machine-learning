{
 "cells": [
  {
   "cell_type": "code",
   "execution_count": 1,
   "id": "97e4b047",
   "metadata": {},
   "outputs": [],
   "source": [
    "import pandas as pd\n",
    "import requests\n",
    "from io import StringIO"
   ]
  },
  {
   "cell_type": "code",
   "execution_count": 2,
   "id": "098a04d9",
   "metadata": {},
   "outputs": [
    {
     "data": {
      "text/html": [
       "<div>\n",
       "<style scoped>\n",
       "    .dataframe tbody tr th:only-of-type {\n",
       "        vertical-align: middle;\n",
       "    }\n",
       "\n",
       "    .dataframe tbody tr th {\n",
       "        vertical-align: top;\n",
       "    }\n",
       "\n",
       "    .dataframe thead th {\n",
       "        text-align: right;\n",
       "    }\n",
       "</style>\n",
       "<table border=\"1\" class=\"dataframe\">\n",
       "  <thead>\n",
       "    <tr style=\"text-align: right;\">\n",
       "      <th></th>\n",
       "      <th>SeriousDlqin2yrs</th>\n",
       "      <th>RevolvingUtilizationOfUnsecuredLines</th>\n",
       "      <th>age</th>\n",
       "      <th>NumberOfTime30-59DaysPastDueNotWorse</th>\n",
       "      <th>DebtRatio</th>\n",
       "      <th>MonthlyIncome</th>\n",
       "      <th>NumberOfOpenCreditLinesAndLoans</th>\n",
       "      <th>NumberOfTimes90DaysLate</th>\n",
       "      <th>NumberRealEstateLoansOrLines</th>\n",
       "      <th>NumberOfTime60-89DaysPastDueNotWorse</th>\n",
       "      <th>NumberOfDependents</th>\n",
       "    </tr>\n",
       "  </thead>\n",
       "  <tbody>\n",
       "    <tr>\n",
       "      <th>0</th>\n",
       "      <td>1</td>\n",
       "      <td>0.766127</td>\n",
       "      <td>45</td>\n",
       "      <td>2</td>\n",
       "      <td>0.802982</td>\n",
       "      <td>9120.0</td>\n",
       "      <td>13</td>\n",
       "      <td>0</td>\n",
       "      <td>6</td>\n",
       "      <td>0</td>\n",
       "      <td>2.0</td>\n",
       "    </tr>\n",
       "    <tr>\n",
       "      <th>1</th>\n",
       "      <td>0</td>\n",
       "      <td>0.957151</td>\n",
       "      <td>40</td>\n",
       "      <td>0</td>\n",
       "      <td>0.121876</td>\n",
       "      <td>2600.0</td>\n",
       "      <td>4</td>\n",
       "      <td>0</td>\n",
       "      <td>0</td>\n",
       "      <td>0</td>\n",
       "      <td>1.0</td>\n",
       "    </tr>\n",
       "    <tr>\n",
       "      <th>2</th>\n",
       "      <td>0</td>\n",
       "      <td>0.658180</td>\n",
       "      <td>38</td>\n",
       "      <td>1</td>\n",
       "      <td>0.085113</td>\n",
       "      <td>3042.0</td>\n",
       "      <td>2</td>\n",
       "      <td>1</td>\n",
       "      <td>0</td>\n",
       "      <td>0</td>\n",
       "      <td>0.0</td>\n",
       "    </tr>\n",
       "    <tr>\n",
       "      <th>3</th>\n",
       "      <td>0</td>\n",
       "      <td>0.233810</td>\n",
       "      <td>30</td>\n",
       "      <td>0</td>\n",
       "      <td>0.036050</td>\n",
       "      <td>3300.0</td>\n",
       "      <td>5</td>\n",
       "      <td>0</td>\n",
       "      <td>0</td>\n",
       "      <td>0</td>\n",
       "      <td>0.0</td>\n",
       "    </tr>\n",
       "    <tr>\n",
       "      <th>4</th>\n",
       "      <td>0</td>\n",
       "      <td>0.907239</td>\n",
       "      <td>49</td>\n",
       "      <td>1</td>\n",
       "      <td>0.024926</td>\n",
       "      <td>63588.0</td>\n",
       "      <td>7</td>\n",
       "      <td>0</td>\n",
       "      <td>1</td>\n",
       "      <td>0</td>\n",
       "      <td>0.0</td>\n",
       "    </tr>\n",
       "  </tbody>\n",
       "</table>\n",
       "</div>"
      ],
      "text/plain": [
       "   SeriousDlqin2yrs  RevolvingUtilizationOfUnsecuredLines  age  \\\n",
       "0                 1                              0.766127   45   \n",
       "1                 0                              0.957151   40   \n",
       "2                 0                              0.658180   38   \n",
       "3                 0                              0.233810   30   \n",
       "4                 0                              0.907239   49   \n",
       "\n",
       "   NumberOfTime30-59DaysPastDueNotWorse  DebtRatio  MonthlyIncome  \\\n",
       "0                                     2   0.802982         9120.0   \n",
       "1                                     0   0.121876         2600.0   \n",
       "2                                     1   0.085113         3042.0   \n",
       "3                                     0   0.036050         3300.0   \n",
       "4                                     1   0.024926        63588.0   \n",
       "\n",
       "   NumberOfOpenCreditLinesAndLoans  NumberOfTimes90DaysLate  \\\n",
       "0                               13                        0   \n",
       "1                                4                        0   \n",
       "2                                2                        1   \n",
       "3                                5                        0   \n",
       "4                                7                        0   \n",
       "\n",
       "   NumberRealEstateLoansOrLines  NumberOfTime60-89DaysPastDueNotWorse  \\\n",
       "0                             6                                     0   \n",
       "1                             0                                     0   \n",
       "2                             0                                     0   \n",
       "3                             0                                     0   \n",
       "4                             1                                     0   \n",
       "\n",
       "   NumberOfDependents  \n",
       "0                 2.0  \n",
       "1                 1.0  \n",
       "2                 0.0  \n",
       "3                 0.0  \n",
       "4                 0.0  "
      ]
     },
     "execution_count": 2,
     "metadata": {},
     "output_type": "execute_result"
    }
   ],
   "source": [
    "url='https://raw.githubusercontent.com/plotly/datasets/master/data.csv'\n",
    "req=requests.get(url)\n",
    "data=StringIO(req.text)\n",
    "df=pd.read_csv(data)\n",
    "df.head()"
   ]
  },
  {
   "cell_type": "markdown",
   "id": "5bff02e2",
   "metadata": {},
   "source": [
    "# working with TSV file"
   ]
  },
  {
   "cell_type": "code",
   "execution_count": 3,
   "id": "0f956ac3",
   "metadata": {},
   "outputs": [
    {
     "data": {
      "text/html": [
       "<div>\n",
       "<style scoped>\n",
       "    .dataframe tbody tr th:only-of-type {\n",
       "        vertical-align: middle;\n",
       "    }\n",
       "\n",
       "    .dataframe tbody tr th {\n",
       "        vertical-align: top;\n",
       "    }\n",
       "\n",
       "    .dataframe thead th {\n",
       "        text-align: right;\n",
       "    }\n",
       "</style>\n",
       "<table border=\"1\" class=\"dataframe\">\n",
       "  <thead>\n",
       "    <tr style=\"text-align: right;\">\n",
       "      <th></th>\n",
       "      <th>id</th>\n",
       "      <th>name</th>\n",
       "      <th>year</th>\n",
       "      <th>rating</th>\n",
       "      <th>runtime</th>\n",
       "      <th>genre</th>\n",
       "      <th>earnings_rank</th>\n",
       "    </tr>\n",
       "  </thead>\n",
       "  <tbody>\n",
       "    <tr>\n",
       "      <th>0</th>\n",
       "      <td>499549</td>\n",
       "      <td>Avatar</td>\n",
       "      <td>2009</td>\n",
       "      <td>PG13</td>\n",
       "      <td>162</td>\n",
       "      <td>A,V,Y,S</td>\n",
       "      <td>1</td>\n",
       "    </tr>\n",
       "    <tr>\n",
       "      <th>1</th>\n",
       "      <td>120338</td>\n",
       "      <td>Titanic</td>\n",
       "      <td>1997</td>\n",
       "      <td>PG13</td>\n",
       "      <td>194</td>\n",
       "      <td>D,R</td>\n",
       "      <td>2</td>\n",
       "    </tr>\n",
       "    <tr>\n",
       "      <th>2</th>\n",
       "      <td>848228</td>\n",
       "      <td>The Avengers</td>\n",
       "      <td>2012</td>\n",
       "      <td>PG13</td>\n",
       "      <td>143</td>\n",
       "      <td>A</td>\n",
       "      <td>3</td>\n",
       "    </tr>\n",
       "    <tr>\n",
       "      <th>3</th>\n",
       "      <td>468569</td>\n",
       "      <td>The Dark Knight</td>\n",
       "      <td>2008</td>\n",
       "      <td>PG13</td>\n",
       "      <td>152</td>\n",
       "      <td>A,T</td>\n",
       "      <td>4</td>\n",
       "    </tr>\n",
       "    <tr>\n",
       "      <th>4</th>\n",
       "      <td>76759</td>\n",
       "      <td>Star Wars</td>\n",
       "      <td>1977</td>\n",
       "      <td>PG</td>\n",
       "      <td>121</td>\n",
       "      <td>A,V,Y,S</td>\n",
       "      <td>5</td>\n",
       "    </tr>\n",
       "  </tbody>\n",
       "</table>\n",
       "</div>"
      ],
      "text/plain": [
       "       id             name  year rating  runtime    genre earnings_rank\n",
       "0  499549           Avatar  2009   PG13      162  A,V,Y,S             1\n",
       "1  120338          Titanic  1997   PG13      194      D,R             2\n",
       "2  848228     The Avengers  2012   PG13      143        A             3\n",
       "3  468569  The Dark Knight  2008   PG13      152      A,T             4\n",
       "4   76759        Star Wars  1977     PG      121  A,V,Y,S             5"
      ]
     },
     "execution_count": 3,
     "metadata": {},
     "output_type": "execute_result"
    }
   ],
   "source": [
    "url='https://raw.githubusercontent.com/ibm-watson-data-lab/open-data/master/movies/movies.tsv'\n",
    "req=requests.get(url)\n",
    "data=StringIO(req.text)\n",
    "df=pd.read_csv(data,sep='\\t')\n",
    "df.head()"
   ]
  },
  {
   "cell_type": "code",
   "execution_count": null,
   "id": "1121be03",
   "metadata": {},
   "outputs": [],
   "source": []
  },
  {
   "cell_type": "code",
   "execution_count": 4,
   "id": "d6ceb725",
   "metadata": {},
   "outputs": [
    {
     "data": {
      "text/html": [
       "<div>\n",
       "<style scoped>\n",
       "    .dataframe tbody tr th:only-of-type {\n",
       "        vertical-align: middle;\n",
       "    }\n",
       "\n",
       "    .dataframe tbody tr th {\n",
       "        vertical-align: top;\n",
       "    }\n",
       "\n",
       "    .dataframe thead th {\n",
       "        text-align: right;\n",
       "    }\n",
       "</style>\n",
       "<table border=\"1\" class=\"dataframe\">\n",
       "  <thead>\n",
       "    <tr style=\"text-align: right;\">\n",
       "      <th></th>\n",
       "      <th>S no</th>\n",
       "      <th>Movie_names</th>\n",
       "    </tr>\n",
       "  </thead>\n",
       "  <tbody>\n",
       "    <tr>\n",
       "      <th>0</th>\n",
       "      <td>11</td>\n",
       "      <td>Star Wars: Episode IV - A New Hope (1977)\"</td>\n",
       "    </tr>\n",
       "    <tr>\n",
       "      <th>1</th>\n",
       "      <td>12</td>\n",
       "      <td>Finding Nemo (2003)\"</td>\n",
       "    </tr>\n",
       "    <tr>\n",
       "      <th>2</th>\n",
       "      <td>13</td>\n",
       "      <td>Forrest Gump (1994)\"</td>\n",
       "    </tr>\n",
       "    <tr>\n",
       "      <th>3</th>\n",
       "      <td>14</td>\n",
       "      <td>American Beauty (1999)\"</td>\n",
       "    </tr>\n",
       "    <tr>\n",
       "      <th>4</th>\n",
       "      <td>22</td>\n",
       "      <td>Pirates of the Caribbean: The Curse of the Bla...</td>\n",
       "    </tr>\n",
       "  </tbody>\n",
       "</table>\n",
       "</div>"
      ],
      "text/plain": [
       "   S no                                        Movie_names\n",
       "0    11         Star Wars: Episode IV - A New Hope (1977)\"\n",
       "1    12                               Finding Nemo (2003)\"\n",
       "2    13                               Forrest Gump (1994)\"\n",
       "3    14                            American Beauty (1999)\"\n",
       "4    22  Pirates of the Caribbean: The Curse of the Bla..."
      ]
     },
     "execution_count": 4,
     "metadata": {},
     "output_type": "execute_result"
    }
   ],
   "source": [
    "url='https://raw.githubusercontent.com/eugenelin89/recommender_content_based/master/data/movie-titles.csv'\n",
    "req=requests.get(url)\n",
    "data=StringIO(req.text)\n",
    "df=pd.read_csv(data,names=['S no','Movie_names'])\n",
    "df.head()"
   ]
  },
  {
   "cell_type": "markdown",
   "id": "366ef04d",
   "metadata": {},
   "source": [
    "# index_col_perameter"
   ]
  },
  {
   "cell_type": "code",
   "execution_count": 5,
   "id": "55e67806",
   "metadata": {},
   "outputs": [
    {
     "data": {
      "text/html": [
       "<div>\n",
       "<style scoped>\n",
       "    .dataframe tbody tr th:only-of-type {\n",
       "        vertical-align: middle;\n",
       "    }\n",
       "\n",
       "    .dataframe tbody tr th {\n",
       "        vertical-align: top;\n",
       "    }\n",
       "\n",
       "    .dataframe thead th {\n",
       "        text-align: right;\n",
       "    }\n",
       "</style>\n",
       "<table border=\"1\" class=\"dataframe\">\n",
       "  <thead>\n",
       "    <tr style=\"text-align: right;\">\n",
       "      <th></th>\n",
       "      <th>Movie_names</th>\n",
       "    </tr>\n",
       "    <tr>\n",
       "      <th>S no</th>\n",
       "      <th></th>\n",
       "    </tr>\n",
       "  </thead>\n",
       "  <tbody>\n",
       "    <tr>\n",
       "      <th>11</th>\n",
       "      <td>Star Wars: Episode IV - A New Hope (1977)\"</td>\n",
       "    </tr>\n",
       "    <tr>\n",
       "      <th>12</th>\n",
       "      <td>Finding Nemo (2003)\"</td>\n",
       "    </tr>\n",
       "    <tr>\n",
       "      <th>13</th>\n",
       "      <td>Forrest Gump (1994)\"</td>\n",
       "    </tr>\n",
       "    <tr>\n",
       "      <th>14</th>\n",
       "      <td>American Beauty (1999)\"</td>\n",
       "    </tr>\n",
       "    <tr>\n",
       "      <th>22</th>\n",
       "      <td>Pirates of the Caribbean: The Curse of the Bla...</td>\n",
       "    </tr>\n",
       "  </tbody>\n",
       "</table>\n",
       "</div>"
      ],
      "text/plain": [
       "                                            Movie_names\n",
       "S no                                                   \n",
       "11           Star Wars: Episode IV - A New Hope (1977)\"\n",
       "12                                 Finding Nemo (2003)\"\n",
       "13                                 Forrest Gump (1994)\"\n",
       "14                              American Beauty (1999)\"\n",
       "22    Pirates of the Caribbean: The Curse of the Bla..."
      ]
     },
     "execution_count": 5,
     "metadata": {},
     "output_type": "execute_result"
    }
   ],
   "source": [
    "url='https://raw.githubusercontent.com/eugenelin89/recommender_content_based/master/data/movie-titles.csv'\n",
    "req=requests.get(url)\n",
    "data=StringIO(req.text)\n",
    "df=pd.read_csv(data,names=['S no','Movie_names'],index_col='S no')\n",
    "df.head()"
   ]
  },
  {
   "cell_type": "markdown",
   "id": "c694a9a0",
   "metadata": {},
   "source": [
    "# Header_perameter"
   ]
  },
  {
   "cell_type": "code",
   "execution_count": 6,
   "id": "59c9c793",
   "metadata": {},
   "outputs": [],
   "source": [
    "# pd.read+csv(data,header=1) convert ist row into column names"
   ]
  },
  {
   "cell_type": "markdown",
   "id": "25774d70",
   "metadata": {},
   "source": [
    "# use_cols permeter"
   ]
  },
  {
   "cell_type": "code",
   "execution_count": 7,
   "id": "41ce3f58",
   "metadata": {},
   "outputs": [],
   "source": [
    "# pd.read+csv(data,usecols=['','']) will get only those columns which you want"
   ]
  },
  {
   "cell_type": "markdown",
   "id": "44e1ab58",
   "metadata": {},
   "source": [
    "# squeeze perameter"
   ]
  },
  {
   "cell_type": "code",
   "execution_count": 8,
   "id": "e120e920",
   "metadata": {},
   "outputs": [],
   "source": [
    "# pd.read+csv(data,usecols=[''],squeeze=True) will get only one colum as a Series"
   ]
  },
  {
   "cell_type": "markdown",
   "id": "1a051359",
   "metadata": {},
   "source": [
    "# skiprows/nrow"
   ]
  },
  {
   "cell_type": "code",
   "execution_count": 9,
   "id": "19b07b0d",
   "metadata": {},
   "outputs": [],
   "source": [
    "# pd.read+csv(data,skiprows=[2,3,5]) will skip the given rows"
   ]
  },
  {
   "cell_type": "markdown",
   "id": "1cb8dd10",
   "metadata": {},
   "source": [
    "# Encoding perameter"
   ]
  },
  {
   "cell_type": "code",
   "execution_count": 10,
   "id": "3849c863",
   "metadata": {},
   "outputs": [],
   "source": [
    "# pd.read+csv(data,encoding='latin-1') if the encoding is not utf-8, it give utfencode error."
   ]
  },
  {
   "cell_type": "markdown",
   "id": "09eb3866",
   "metadata": {},
   "source": [
    "# Skip bad lines"
   ]
  },
  {
   "cell_type": "code",
   "execution_count": 11,
   "id": "c2c552ba",
   "metadata": {},
   "outputs": [],
   "source": [
    "# pd.read+csv(data,sep=',',encoding='latin-1',error_bad_lines=False) if there are different lines in different rows, it give error"
   ]
  },
  {
   "cell_type": "markdown",
   "id": "dac8e237",
   "metadata": {},
   "source": [
    "# Dtypes perameter"
   ]
  },
  {
   "cell_type": "code",
   "execution_count": null,
   "id": "8d8dd295",
   "metadata": {},
   "outputs": [],
   "source": [
    "# pd.read+csv(data,dtype={'colmn_name':'int'}) change the dtype of columns"
   ]
  },
  {
   "cell_type": "markdown",
   "id": "f514fef6",
   "metadata": {},
   "source": [
    "# Handling dates"
   ]
  },
  {
   "cell_type": "code",
   "execution_count": null,
   "id": "b3b0f08f",
   "metadata": {},
   "outputs": [],
   "source": [
    "# pd.read+csv(data,parse_date=['date column name']) change the dtype of columns"
   ]
  },
  {
   "cell_type": "markdown",
   "id": "ee248e34",
   "metadata": {},
   "source": [
    "# Convertors"
   ]
  },
  {
   "cell_type": "code",
   "execution_count": 13,
   "id": "ceb9229a",
   "metadata": {},
   "outputs": [],
   "source": [
    "def rename(name):\n",
    "    if name=='peshawar zalmi':\n",
    "        return 'PZ'\n",
    "    if name=='lahore qalarndar':\n",
    "        return 'LQ'\n",
    "    else:\n",
    "        return name"
   ]
  },
  {
   "cell_type": "code",
   "execution_count": null,
   "id": "20004602",
   "metadata": {},
   "outputs": [],
   "source": [
    "# pd.read+csv(data,converters={'column name':function name}) will apply function name to the column name "
   ]
  },
  {
   "cell_type": "code",
   "execution_count": null,
   "id": "424ce4e2",
   "metadata": {},
   "outputs": [],
   "source": []
  },
  {
   "cell_type": "markdown",
   "id": "77078c14",
   "metadata": {},
   "source": [
    "# na_values perameters"
   ]
  },
  {
   "cell_type": "code",
   "execution_count": null,
   "id": "d6e62f55",
   "metadata": {},
   "outputs": [],
   "source": [
    "# pd.read+csv(data,na_values=['male']) convert all the male word into NAN in csv file. it is\n",
    "# use to convert all the values which are NaN. for example there is - . you can convert - into NaN"
   ]
  },
  {
   "cell_type": "markdown",
   "id": "2f18c40b",
   "metadata": {},
   "source": [
    "# loading huge datasets in chunks"
   ]
  },
  {
   "cell_type": "code",
   "execution_count": null,
   "id": "42030a5f",
   "metadata": {},
   "outputs": [],
   "source": [
    "#dfs= pd.read+csv(data,chunksize=1000) it will convert the whole into 1000 of chucks\n",
    "# now you need to loop through data to apply any operations\n",
    "\n",
    "# for chuck in dfs:\n",
    "#     print(chunk.shape)"
   ]
  }
 ],
 "metadata": {
  "kernelspec": {
   "display_name": "Python 3 (ipykernel)",
   "language": "python",
   "name": "python3"
  },
  "language_info": {
   "codemirror_mode": {
    "name": "ipython",
    "version": 3
   },
   "file_extension": ".py",
   "mimetype": "text/x-python",
   "name": "python",
   "nbconvert_exporter": "python",
   "pygments_lexer": "ipython3",
   "version": "3.11.1"
  }
 },
 "nbformat": 4,
 "nbformat_minor": 5
}
